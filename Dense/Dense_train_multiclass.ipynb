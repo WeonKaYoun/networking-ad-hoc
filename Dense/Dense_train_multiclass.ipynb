{
 "cells": [
  {
   "cell_type": "code",
   "execution_count": 56,
   "metadata": {},
   "outputs": [],
   "source": [
    "import matplotlib.pyplot as plt\n",
    "%matplotlib inline\n",
    "import IPython.display\n",
    "import librosa.display\n",
    "import numpy as np\n",
    "import librosa\n",
    "import tensorflow as tf\n",
    "import glob"
   ]
  },
  {
   "cell_type": "code",
   "execution_count": 57,
   "metadata": {},
   "outputs": [],
   "source": [
    "import glob\n",
    "#uav_path = 'C:/Users/Jaesung/Desktop/코딩/Python실습/K-SW-PJT/RW_AUDIO_DATA_2018_Update/RW_AUDIO_DATA_2018_Update/JUNE_01_PHANTOMS/*.wav'\n",
    "#none_path = 'C:/Users/Jaesung/Desktop/코딩/Python실습/K-SW-PJT/RW_AUDIO_DATA_2018_Update/RW_AUDIO_DATA_2018_Update/JUNE_02_BACKGROUND/background_0*.wav'\n",
    "#uav_path = '../../../0720/*.wav'\n",
    "#uav_path = 'C:/Users/Jaesung/Desktop/코딩/Python실습/K-SW-PJT/Sounddata_new/22050/Drone_22050/*.*'\n",
    "#none_path = 'C:/Users/Jaesung/Desktop/코딩/Python실습/K-SW-PJT/Sounddata_new/22050/None_22050/*.*'\n",
    "\n",
    "\n",
    "\n",
    "uav_path = '/Users/junhyuckwoo/purdueProject/uav-audio-detection/soundData/0720A/load/*.*'\n",
    "loaded_path = '/Users/junhyuckwoo/purdueProject/uav-audio-detection/soundData/0720A/unload/*.*'\n",
    "none_path = '/Users/junhyuckwoo/purdueProject/uav-audio-detection/soundData/BACKGROUND/background_0*.wav'\n",
    "\n",
    "\n",
    "uav_files = glob.glob(uav_path)\n",
    "loaded_files = glob.glob(loaded_path)\n",
    "none_files = glob.glob(none_path)\n"
   ]
  },
  {
   "cell_type": "code",
   "execution_count": 58,
   "metadata": {},
   "outputs": [],
   "source": [
    "CHUNK_SIZE = 8192\n",
    "SR = 22050\n",
    "N_MFCC = 16"
   ]
  },
  {
   "cell_type": "code",
   "execution_count": 59,
   "metadata": {},
   "outputs": [],
   "source": [
    "def load(files, sr=22050):\n",
    "    [raw, sr] = librosa.load(files[0], sr=sr)\n",
    "    for f in files[1:]:\n",
    "        [array, sr] = librosa.load(f, sr=sr)\n",
    "        raw = np.hstack((raw, array))\n",
    "    print(raw.shape)\n",
    "    return raw\n"
   ]
  },
  {
   "cell_type": "code",
   "execution_count": 60,
   "metadata": {},
   "outputs": [
    {
     "data": {
      "text/plain": [
       "'\\nfrom myAudio import Audio\\nimport pyaudio\\nimport time\\nimport wave\\nimport numpy as np\\nimport librosa\\ndef load2(sr=22050):\\n    raw = Audio.getStream(sample_rate = sr, chunk_size = CHUNK_SIZE,chunk_num = 1, isWrite=False)\\n    raw = np.array(raw)\\n    print(raw.shape)\\n    return raw\\nsound_raw = load2()\\n'"
      ]
     },
     "execution_count": 60,
     "metadata": {},
     "output_type": "execute_result"
    }
   ],
   "source": [
    "'''\n",
    "from myAudio import Audio\n",
    "import pyaudio\n",
    "import time\n",
    "import wave\n",
    "import numpy as np\n",
    "import librosa\n",
    "def load2(sr=22050):\n",
    "    raw = Audio.getStream(sample_rate = sr, chunk_size = CHUNK_SIZE,chunk_num = 1, isWrite=False)\n",
    "    raw = np.array(raw)\n",
    "    print(raw.shape)\n",
    "    return raw\n",
    "sound_raw = load2()\n",
    "'''"
   ]
  },
  {
   "cell_type": "code",
   "execution_count": 61,
   "metadata": {},
   "outputs": [
    {
     "name": "stdout",
     "output_type": "stream",
     "text": [
      "(9064894,)\n",
      "(12584212,)\n",
      "(9289728,)\n"
     ]
    }
   ],
   "source": [
    "uav_raw = load(uav_files)\n",
    "loaded_raw = load(loaded_files)\n",
    "none_raw = load(none_files)"
   ]
  },
  {
   "cell_type": "markdown",
   "metadata": {},
   "source": [
    "# Data preprocessing"
   ]
  },
  {
   "cell_type": "markdown",
   "metadata": {},
   "source": [
    "Chose `mfcc4` "
   ]
  },
  {
   "cell_type": "code",
   "execution_count": 62,
   "metadata": {},
   "outputs": [],
   "source": [
    "def mfcc4(raw, label, chunk_size=8192, window_size=4096, sr=22050, n_mfcc=16, n_frame=16):\n",
    "    mfcc = np.empty((0, n_mfcc, n_frame))\n",
    "    y = []\n",
    "    print(raw.shape)\n",
    "    for i in range(0, len(raw), chunk_size//2):\n",
    "        mfcc_slice = librosa.feature.mfcc(raw[i:i+chunk_size], sr=sr, n_mfcc=n_mfcc) #n_mfcc,17\n",
    "        if mfcc_slice.shape[1] < 17:\n",
    "            print(\"small end:\", mfcc_slice.shape)\n",
    "            continue\n",
    "        mfcc_slice = mfcc_slice[:,:-1]\n",
    "        mfcc_slice = mfcc_slice.reshape((1, mfcc_slice.shape[0], mfcc_slice.shape[1]))\n",
    "        mfcc = np.vstack((mfcc, mfcc_slice))\n",
    "        y.append(label)\n",
    "    y = np.array(y)\n",
    "    return mfcc, y"
   ]
  },
  {
   "cell_type": "code",
   "execution_count": 63,
   "metadata": {},
   "outputs": [
    {
     "name": "stdout",
     "output_type": "stream",
     "text": [
      "(12584212,)\n",
      "small end: (16, 11)\n",
      "small end: (16, 3)\n",
      "(9064894,)\n",
      "small end: (16, 9)\n",
      "small end: (16, 1)\n",
      "(9289728,)\n",
      "small end: (16, 9)\n",
      "(2212, 16, 16) (2212,)\n",
      "(3071, 16, 16) (3071,)\n",
      "(2267, 16, 16) (2267,)\n"
     ]
    }
   ],
   "source": [
    "mfcc_loaded, y_loaded = mfcc4(loaded_raw, 2)\n",
    "mfcc_uav, y_uav = mfcc4(uav_raw, 1)\n",
    "mfcc_none, y_none = mfcc4(none_raw, 0)\n",
    "\n",
    "print(mfcc_uav.shape, y_uav.shape)\n",
    "print(mfcc_loaded.shape, y_loaded.shape)\n",
    "print(mfcc_none.shape, y_none.shape)"
   ]
  },
  {
   "cell_type": "code",
   "execution_count": 64,
   "metadata": {},
   "outputs": [
    {
     "name": "stdout",
     "output_type": "stream",
     "text": [
      "(7550, 16, 16) (7550,)\n"
     ]
    }
   ],
   "source": [
    "X = np.concatenate((mfcc_loaded, mfcc_uav, mfcc_none), axis=0)\n",
    "y = np.hstack((y_loaded, y_uav, y_none))\n",
    "print(X.shape, y.shape)"
   ]
  },
  {
   "cell_type": "code",
   "execution_count": 65,
   "metadata": {},
   "outputs": [],
   "source": [
    "X = np.reshape(X,(X.shape[0],-1)) #reshape"
   ]
  },
  {
   "cell_type": "code",
   "execution_count": 66,
   "metadata": {
    "scrolled": true
   },
   "outputs": [
    {
     "data": {
      "text/plain": [
       "(7550, 256)"
      ]
     },
     "execution_count": 66,
     "metadata": {},
     "output_type": "execute_result"
    }
   ],
   "source": [
    "X.shape"
   ]
  },
  {
   "cell_type": "code",
   "execution_count": 67,
   "metadata": {},
   "outputs": [
    {
     "name": "stdout",
     "output_type": "stream",
     "text": [
      "(7550, 3)\n"
     ]
    }
   ],
   "source": [
    "n_labels = y.shape[0]\n",
    "n_unique_labels = 3\n",
    "y_encoded = np.zeros((n_labels, n_unique_labels))\n",
    "y_encoded[np.arange(n_labels), y] = 1\n",
    "print(y_encoded.shape)"
   ]
  },
  {
   "cell_type": "code",
   "execution_count": 68,
   "metadata": {},
   "outputs": [],
   "source": [
    "from sklearn import model_selection\n",
    "X_train, X_test, y_train, y_test = model_selection.train_test_split(X, y_encoded, test_size=0.2, random_state=42)"
   ]
  },
  {
   "cell_type": "code",
   "execution_count": 69,
   "metadata": {},
   "outputs": [],
   "source": [
    "X_train, X_val, y_train, y_val = model_selection.train_test_split(X_train, y_train, test_size=0.2, random_state=42)"
   ]
  },
  {
   "cell_type": "code",
   "execution_count": 70,
   "metadata": {},
   "outputs": [
    {
     "name": "stdout",
     "output_type": "stream",
     "text": [
      "(4832, 256) (4832, 3)\n",
      "(1208, 256) (1208, 3)\n",
      "(1510, 256) (1510, 3)\n"
     ]
    }
   ],
   "source": [
    "print(X_train.shape,y_train.shape)\n",
    "print(X_val.shape, y_val.shape)\n",
    "print(X_test.shape, y_test.shape)"
   ]
  },
  {
   "cell_type": "code",
   "execution_count": 71,
   "metadata": {},
   "outputs": [],
   "source": [
    "### path selection between jaesung & gunhoo ###\n",
    "np.save('/Users/junhyuckwoo/purdueProject/uav-audio-detection/models/JUN/Dense/data/X_train_chunk_3d', X_train)\n",
    "np.save('/Users/junhyuckwoo/purdueProject/uav-audio-detection/models/JUN/Dense/data/X_test_chunk_3d', X_test)\n",
    "np.save('/Users/junhyuckwoo/purdueProject/uav-audio-detection/models/JUN/Dense/data/y_train_chunk_3d', y_train)\n",
    "np.save('/Users/junhyuckwoo/purdueProject/uav-audio-detection/models/JUN/Dense/data/y_test_chunk_3d', y_test)\n",
    "np.save('/Users/junhyuckwoo/purdueProject/uav-audio-detection/models/JUN/Dense/data/X_test_chunk_3d', X_test)\n",
    "np.save('/Users/junhyuckwoo/purdueProject/uav-audio-detection/models/JUN/Dense/data/y_val_chunk_3d', y_val)\n",
    "np.save('/Users/junhyuckwoo/purdueProject/uav-audio-detection/models/JUN/Dense/data/X_val_chunk_3d', X_val)\n",
    "#np.save('../../../RW_AUDIO_DATA_2018_Update/Xy/X_train_chunk_3d', X_train)\n",
    "#np.save('../../../RW_AUDIO_DATA_2018_Update/Xy/X_test_chunk_3d', X_test)\n",
    "#np.save('../../../RW_AUDIO_DATA_2018_Update/Xy/y_train_chunk_3d', y_train)\n",
    "#np.save('../../../RW_AUDIO_DATA_2018_Update/Xy/y_test_chunk_3d', y_test)"
   ]
  },
  {
   "cell_type": "code",
   "execution_count": 72,
   "metadata": {},
   "outputs": [],
   "source": [
    "### path selection between jaesung & gunhoo ###\n",
    "X_train = np.load('/Users/junhyuckwoo/purdueProject/uav-audio-detection/models/JUN/Dense/data/X_train_chunk_3d.npy')\n",
    "X_test = np.load('/Users/junhyuckwoo/purdueProject/uav-audio-detection/models/JUN/Dense/data/X_test_chunk_3d.npy')\n",
    "y_train = np.load('/Users/junhyuckwoo/purdueProject/uav-audio-detection/models/JUN/Dense/data/y_train_chunk_3d.npy')\n",
    "y_test = np.load('/Users/junhyuckwoo/purdueProject/uav-audio-detection/models/JUN/Dense/data/y_test_chunk_3d.npy')\n",
    "y_val = np.load('/Users/junhyuckwoo/purdueProject/uav-audio-detection/models/JUN/Dense/data/y_val_chunk_3d.npy')\n",
    "X_val = np.load('/Users/junhyuckwoo/purdueProject/uav-audio-detection/models/JUN/Dense/data/X_val_chunk_3d.npy')\n",
    "\n",
    "#X_train = np.load('../../../RW_AUDIO_DATA_2018_Update/Xy/X_train_chunk_3d.npy')\n",
    "#X_test = np.load('../../../RW_AUDIO_DATA_2018_Update/Xy/X_test_chunk_3d.npy')\n",
    "#y_train = np.load('../../../RW_AUDIO_DATA_2018_Update/Xy/y_train_chunk_3d.npy')\n",
    "#y_test = np.load('../../../RW_AUDIO_DATA_2018_Update/Xy/y_test_chunk_3d.npy')"
   ]
  },
  {
   "cell_type": "markdown",
   "metadata": {},
   "source": [
    "# Dense Experiment\n"
   ]
  },
  {
   "cell_type": "code",
   "execution_count": 73,
   "metadata": {},
   "outputs": [],
   "source": [
    "tf.reset_default_graph()"
   ]
  },
  {
   "cell_type": "code",
   "execution_count": 74,
   "metadata": {},
   "outputs": [],
   "source": [
    "n_mfcc = 16\n",
    "n_frame = 16\n",
    "n_classes = 3\n",
    "n_channels = 1\n",
    "\n",
    "learning_rate = 0.0002  # 0.005\n"
   ]
  },
  {
   "cell_type": "markdown",
   "metadata": {},
   "source": [
    "## Experiment \n",
    "- learning rate 0.0002\n",
    "- dense with dropout / five layers\n",
    "- multiclass(3) classifier model\n",
    "- Loaded UAV / Unloaded UAV / Background noise"
   ]
  },
  {
   "cell_type": "code",
   "execution_count": 75,
   "metadata": {},
   "outputs": [],
   "source": [
    "X = tf.placeholder(tf.float32, shape=[None,n_mfcc*n_frame*n_channels])\n",
    "#X = tf.reshape(X, [-1, n_mfcc, n_frame, n_channels]) #fully connected에는 리셰입 안해도 된다 \n",
    "Y = tf.placeholder(tf.float32, shape=[None,n_classes])\n",
    "\n",
    "keep_prob = tf.placeholder(tf.float32)\n",
    "\n",
    "#dense2 = tf.layers.dense(inputs=flat, units=625, activation=tf.nn.relu)\n",
    "#dropout2 = tf.layers.dropout(inputs=dense2, rate=0.5, training=True)\n",
    "\n",
    "dense1 = tf.layers.dense(inputs=X, units=256, activation=tf.nn.relu)\n",
    "dropout1 = tf.nn.dropout(dense1, keep_prob=keep_prob)\n",
    "\n",
    "\n",
    "dense2 = tf.layers.dense(inputs=dropout1, units=256, activation=tf.nn.relu)\n",
    "dropout2 = tf.nn.dropout(dense2, keep_prob=keep_prob)\n",
    "\n",
    "dense3 = tf.layers.dense(inputs=dropout2, units=512, activation=tf.nn.relu)\n",
    "dropout3 = tf.nn.dropout(dense3, keep_prob=keep_prob)\n",
    "\n",
    "#이거 지워보고 돌려보고 \n",
    "dense4 = tf.layers.dense(inputs=dropout3, units=512, activation=tf.nn.relu)\n",
    "dropout4 = tf.nn.dropout(dense4, keep_prob=keep_prob)\n",
    "\n",
    "\n",
    "dense5 = tf.layers.dense(inputs=dropout4, units=256, activation=tf.nn.relu)\n",
    "dropout5 = tf.nn.dropout(dense5, keep_prob=keep_prob)\n",
    "\n",
    "\n",
    "logits= tf.layers.dense(inputs=dropout5, units=3)\n",
    "\n",
    "cost = tf.reduce_mean(tf.nn.softmax_cross_entropy_with_logits_v2(logits=logits, labels=Y))\n",
    "optimizer = tf.train.AdamOptimizer(learning_rate=learning_rate).minimize(cost)"
   ]
  },
  {
   "cell_type": "code",
   "execution_count": 76,
   "metadata": {},
   "outputs": [],
   "source": [
    "sess = tf.Session()\n",
    "sess.run(tf.global_variables_initializer())"
   ]
  },
  {
   "cell_type": "code",
   "execution_count": 77,
   "metadata": {},
   "outputs": [],
   "source": [
    "model_path = '/Users/junhyuckwoo/purdueProject/uav-audio-detection/models/JUN/Dense/my_test_model_cnn'\n",
    "#model_path = '../models/CNN/my_test_model_cnn'\n",
    "#saver = tf.train.Saver()\n",
    "#model_path = './model_cnn.ckpt'\n",
    "#model_path = '../my_test_model_cnn'\n",
    "saver = tf.train.Saver()"
   ]
  },
  {
   "cell_type": "code",
   "execution_count": 78,
   "metadata": {},
   "outputs": [],
   "source": [
    "import math"
   ]
  },
  {
   "cell_type": "code",
   "execution_count": 79,
   "metadata": {
    "scrolled": false
   },
   "outputs": [],
   "source": [
    "with tf.name_scope(\"eval\"):\n",
    "    correct = tf.nn.in_top_k(logits, y, 1)\n",
    "    accuracy = tf.reduce_mean(tf.cast(correct, tf.float32))\n",
    "#    accuracy_summary = tf.summary.scalar('accuracy', accuracy)"
   ]
  },
  {
   "cell_type": "code",
   "execution_count": 80,
   "metadata": {},
   "outputs": [],
   "source": [
    "from sklearn.metrics import accuracy_score"
   ]
  },
  {
   "cell_type": "code",
   "execution_count": 81,
   "metadata": {
    "scrolled": false
   },
   "outputs": [
    {
     "name": "stdout",
     "output_type": "stream",
     "text": [
      "Epoch: 0001 cost =  0.441206775 \t검증 세트 정확도: 55.050%\n",
      "Epoch: 0002 cost =  0.112008268 \t검증 세트 정확도: 62.997%\n",
      "Epoch: 0003 cost =  0.048526676 \t검증 세트 정확도: 65.315%\n",
      "Epoch: 0004 cost =  0.027489776 \t검증 세트 정확도: 67.798%\n",
      "Epoch: 0005 cost =  0.018115631 \t검증 세트 정확도: 64.156%\n",
      "Epoch: 0006 cost =  0.014615816 \t검증 세트 정확도: 76.656%\n",
      "Epoch: 0007 cost =  0.011323070 \t검증 세트 정확도: 93.709%\n",
      "Epoch: 0008 cost =  0.010124053 \t검증 세트 정확도: 94.702%\n",
      "Epoch: 0009 cost =  0.008754129 \t검증 세트 정확도: 95.116%\n",
      "Epoch: 0010 cost =  0.007751005 \t검증 세트 정확도: 96.109%\n",
      "Epoch: 0011 cost =  0.006643001 \t검증 세트 정확도: 96.358%\n",
      "Epoch: 0012 cost =  0.005690227 \t검증 세트 정확도: 96.440%\n",
      "Epoch: 0013 cost =  0.004871955 \t검증 세트 정확도: 96.689%\n",
      "Epoch: 0014 cost =  0.003914089 \t검증 세트 정확도: 96.689%\n",
      "Epoch: 0015 cost =  0.003747035 \t검증 세트 정확도: 96.689%\n",
      "Epoch: 0016 cost =  0.003229421 \t검증 세트 정확도: 96.606%\n",
      "Epoch: 0017 cost =  0.003029937 \t검증 세트 정확도: 96.854%\n",
      "Epoch: 0018 cost =  0.002799868 \t검증 세트 정확도: 96.937%\n",
      "Epoch: 0019 cost =  0.002771885 \t검증 세트 정확도: 96.937%\n",
      "Epoch: 0020 cost =  0.002623888 \t검증 세트 정확도: 96.854%\n",
      "Epoch: 0021 cost =  0.002399785 \t검증 세트 정확도: 96.937%\n",
      "Epoch: 0022 cost =  0.002030373 \t검증 세트 정확도: 96.937%\n",
      "Epoch: 0023 cost =  0.002183704 \t검증 세트 정확도: 96.937%\n",
      "Epoch: 0024 cost =  0.001911630 \t검증 세트 정확도: 96.854%\n",
      "Epoch: 0025 cost =  0.002001731 \t검증 세트 정확도: 96.606%\n",
      "Epoch: 0026 cost =  0.001943027 \t검증 세트 정확도: 96.854%\n",
      "Epoch: 0027 cost =  0.002069865 \t검증 세트 정확도: 96.937%\n",
      "Epoch: 0028 cost =  0.001663589 \t검증 세트 정확도: 96.689%\n",
      "Epoch: 0029 cost =  0.001603253 \t검증 세트 정확도: 96.937%\n",
      "Epoch: 0030 cost =  0.001630093 \t검증 세트 정확도: 96.606%\n",
      "Epoch: 0031 cost =  0.001670405 \t검증 세트 정확도: 96.606%\n",
      "Epoch: 0032 cost =  0.001574092 \t검증 세트 정확도: 97.103%\n",
      "Epoch: 0033 cost =  0.001632096 \t검증 세트 정확도: 97.020%\n",
      "Epoch: 0034 cost =  0.001442883 \t검증 세트 정확도: 97.020%\n",
      "Epoch: 0035 cost =  0.001372329 \t검증 세트 정확도: 97.020%\n",
      "Epoch: 0036 cost =  0.001398976 \t검증 세트 정확도: 96.689%\n",
      "Epoch: 0037 cost =  0.001451663 \t검증 세트 정확도: 97.103%\n",
      "Epoch: 0038 cost =  0.001602013 \t검증 세트 정확도: 97.268%\n",
      "Epoch: 0039 cost =  0.001300735 \t검증 세트 정확도: 97.020%\n",
      "Epoch: 0040 cost =  0.001334472 \t검증 세트 정확도: 96.937%\n",
      "Epoch: 0041 cost =  0.001398353 \t검증 세트 정확도: 97.103%\n",
      "Epoch: 0042 cost =  0.001521467 \t검증 세트 정확도: 97.682%\n",
      "Epoch: 0043 cost =  0.001217788 \t검증 세트 정확도: 97.599%\n",
      "Epoch: 0044 cost =  0.001186901 \t검증 세트 정확도: 97.351%\n",
      "Epoch: 0045 cost =  0.001177021 \t검증 세트 정확도: 97.268%\n",
      "Epoch: 0046 cost =  0.001195923 \t검증 세트 정확도: 97.599%\n",
      "Epoch: 0047 cost =  0.001027251 \t검증 세트 정확도: 97.765%\n",
      "Epoch: 0048 cost =  0.001022590 \t검증 세트 정확도: 97.599%\n",
      "Epoch: 0049 cost =  0.001024291 \t검증 세트 정확도: 97.848%\n"
     ]
    },
    {
     "data": {
      "text/plain": [
       "'/Users/junhyuckwoo/purdueProject/uav-audio-detection/models/JUN/Dense/my_test_model_cnn'"
      ]
     },
     "execution_count": 81,
     "metadata": {},
     "output_type": "execute_result"
    }
   ],
   "source": [
    "#original \n",
    "batch_size = 64\n",
    "cost_history = np.empty(shape=[1], dtype=float)\n",
    "\n",
    "for epoch in range(1,50):\n",
    "    avg_cost = 0    \n",
    "#    total_batch = int(X_train.shape[0] / batch_size)\n",
    "    for i in range( int(math.ceil(len(X_train)/batch_size)) ): # 배치 사이즈로 나눈 나머지 다 돌 수 있게 \n",
    "        x_ = X_train[batch_size * i: batch_size * (i + 1)]\n",
    "        y_ = y_train[batch_size * i: batch_size * (i + 1)]\n",
    "        feed_dict={X:x_, Y:y_, keep_prob:0.6}   \n",
    "        c, _ = sess.run([cost, optimizer], feed_dict=feed_dict)\n",
    "        cost_history = np.append(cost_history,cost)\n",
    "        avg_cost += c\n",
    "    #accuracy_val = sess.run([accuracy], feed_dict={X:X_val, Y:y_val\n",
    "    val_pred = sess.run(tf.argmax(logits,1),feed_dict={X: X_val , keep_prob:1})  \n",
    "    val_true = sess.run(tf.argmax(y_val,1))\n",
    "    accuracy_val = accuracy_score(val_pred, val_true)\n",
    "    print('Epoch:', '%04d' % (epoch), 'cost = ', '{:.9f}'.format(avg_cost / len(X_train)), \"\\t검증 세트 정확도: {:.3f}%\".format(accuracy_val * 100),)\n",
    "saver.save(sess, model_path)\n",
    "\n",
    "#if epoch% 20 == 0:\n",
    "#   save"
   ]
  },
  {
   "cell_type": "code",
   "execution_count": 82,
   "metadata": {},
   "outputs": [],
   "source": [
    "y_pred = sess.run(tf.argmax(logits,1),feed_dict={X: X_test , keep_prob:1}) # keep_prob 삭제  \n",
    "y_true = sess.run(tf.argmax(y_test,1))"
   ]
  },
  {
   "cell_type": "code",
   "execution_count": 83,
   "metadata": {},
   "outputs": [
    {
     "name": "stdout",
     "output_type": "stream",
     "text": [
      "F-Score: 0.98\n",
      "Accuracy:  0.9801324503311258\n",
      "             precision    recall  f1-score   support\n",
      "\n",
      "          0       1.00      1.00      1.00       449\n",
      "          1       0.95      0.98      0.96       422\n",
      "          2       0.99      0.97      0.98       639\n",
      "\n",
      "avg / total       0.98      0.98      0.98      1510\n",
      "\n",
      "[[449   0   0]\n",
      " [  0 413   9]\n",
      " [  0  21 618]]\n"
     ]
    }
   ],
   "source": [
    "from sklearn.metrics import precision_recall_fscore_support\n",
    "p,r,f,s = precision_recall_fscore_support(y_true, y_pred, average='micro')\n",
    "print(\"F-Score:\", round(f,3))\n",
    "from sklearn.metrics import accuracy_score\n",
    "print(\"Accuracy: \", accuracy_score(y_true, y_pred))\n",
    "\n",
    "from sklearn.metrics import classification_report\n",
    "print(classification_report(y_true, y_pred))\n",
    "from sklearn.metrics import confusion_matrix\n",
    "print(confusion_matrix(y_true, y_pred))"
   ]
  },
  {
   "cell_type": "code",
   "execution_count": null,
   "metadata": {},
   "outputs": [],
   "source": []
  }
 ],
 "metadata": {
  "kernelspec": {
   "display_name": "Python 3",
   "language": "python",
   "name": "python3"
  },
  "language_info": {
   "codemirror_mode": {
    "name": "ipython",
    "version": 3
   },
   "file_extension": ".py",
   "mimetype": "text/x-python",
   "name": "python",
   "nbconvert_exporter": "python",
   "pygments_lexer": "ipython3",
   "version": "3.5.0"
  }
 },
 "nbformat": 4,
 "nbformat_minor": 2
}
