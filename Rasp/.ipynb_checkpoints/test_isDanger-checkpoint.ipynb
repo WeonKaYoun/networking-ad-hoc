{
 "cells": [
  {
   "cell_type": "code",
   "execution_count": null,
   "metadata": {},
   "outputs": [
    {
     "name": "stdout",
     "output_type": "stream",
     "text": [
      "INFO:tensorflow:Restoring parameters from ./models/RNN/my_RNN_model\n"
     ]
    }
   ],
   "source": [
    "from tfModel import *"
   ]
  },
  {
   "cell_type": "code",
   "execution_count": null,
   "metadata": {},
   "outputs": [],
   "source": [
    "raw = Audio.getStream(sample_rate = 44100, chunk_size = 8192,chunk_num = 10, isWrite=True)\n",
    "#raw,sr = librosa.load('../data/drone170719-002.wav', sr=22050)\n",
    "dataX = extractFeature(raw)\n",
    "\n",
    "#print(X_hot.shape)\n",
    "y_pred = sess.run(tf.argmax(Y_pred,1), feed_dict={X:dataX, BatchSize: len(dataX)})"
   ]
  },
  {
   "cell_type": "code",
   "execution_count": null,
   "metadata": {},
   "outputs": [],
   "source": [
    "import matplotlib.pyplot as plt\n",
    "%matplotlib inline\n",
    "\n",
    "fig = plt.figure(figsize=(15,9))\n",
    "ax = fig.add_subplot(1,1,1)\n",
    "ax.plot(np.linspace(0,len(y_pred), len(y_pred)),y_pred)"
   ]
  },
  {
   "cell_type": "markdown",
   "metadata": {},
   "source": [
    "## sudo pip3 install librosa==0.4.2\n",
    "## pip3 install numpy\n",
    "## pip3 install tensorflow"
   ]
  },
  {
   "cell_type": "code",
   "execution_count": null,
   "metadata": {},
   "outputs": [],
   "source": [
    "#install librosa \n",
    "from tfModel import *\n",
    "# 0: unloaded \n",
    "# 1: load \n",
    "# 2: none\n",
    "while(True):\n",
    "    y_pred = getDetectionResult()\n",
    "    print('\\t',y_pred)"
   ]
  },
  {
   "cell_type": "markdown",
   "metadata": {},
   "source": [
    "\n",
    "Thanks @MatthewBerryman, you got me over the hump! On the newest Raspian release (stretch) I was successful with the following after several hours of frustration of trying to get librosa installed on Raspian jessie (which my RPi3 came with). Having said this, the following procedure may also work with jessie.\n",
    "\n",
    "First, update your system's package list and upgrade all your installed packages to their latest versions with the command:\n",
    "\n",
    "## sudo apt-get update\n",
    "## sudo apt-get dist-upgrade\n",
    "Install Python science stack:\n",
    "\n",
    "## sudo pip3 install numpy --upgrade \n",
    "## sudo apt-get install python3-pandas\n",
    "(Also seems to install matplotlib, scipy)\n",
    "\n",
    "sudo apt-get install python3-sklearn\n",
    "Then, install the low-level virtual machine, LLVM (per @MatthewBerryman, I used llvm 3.8 and llvmlite 0.15.0, and not the newest combination where I couldn't find the packages.) After installing llvm-3.8, a symbolic link needs to be defined before installing llvmlite.\n",
    "\n",
    "## sudo apt-get install llvm-3.8\n",
    "## sudo ln -s /usr/bin/llvm-config-3.8 /usr/bin/llvm-config\n",
    "## sudo pip3 install llvmlite==0.15.0\n",
    "## sudo pip3 install numba==0.32.0\n",
    "Numba is 0.32.0 because if it's the newest (0.36), it will not import because of an llvm mismatch, and if it's a lower version, the librosa install will upgrade it to the newest version.\n",
    "\n",
    "Finally, install librosa:\n",
    "\n",
    "## sudo pip3 install librosa==0.4.2\n",
    "However, when trying to import librosa, it still throws and error, namely\n",
    "\n",
    "ImportError: libf77blas.so.3: cannot open shared object file: No such file or directory\n",
    "Googling this error indicated this would fix it:\n",
    "\n",
    "## sudo apt-get install libatlas-base-dev"
   ]
  },
  {
   "cell_type": "code",
   "execution_count": null,
   "metadata": {},
   "outputs": [],
   "source": []
  }
 ],
 "metadata": {
  "kernelspec": {
   "display_name": "Python 3",
   "language": "python",
   "name": "python3"
  },
  "language_info": {
   "codemirror_mode": {
    "name": "ipython",
    "version": 3
   },
   "file_extension": ".py",
   "mimetype": "text/x-python",
   "name": "python",
   "nbconvert_exporter": "python",
   "pygments_lexer": "ipython3",
   "version": "3.5.4"
  }
 },
 "nbformat": 4,
 "nbformat_minor": 2
}
